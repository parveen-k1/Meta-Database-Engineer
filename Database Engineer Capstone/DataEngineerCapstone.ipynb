{
 "cells": [
  {
   "cell_type": "code",
   "execution_count": 1,
   "id": "af68cda0",
   "metadata": {},
   "outputs": [
    {
     "name": "stdout",
     "output_type": "stream",
     "text": [
      "Requirement already satisfied: mysql-connector-python in c:\\python3\\lib\\site-packages (8.0.32)\n",
      "Requirement already satisfied: protobuf<=3.20.3,>=3.11.0 in c:\\python3\\lib\\site-packages (from mysql-connector-python) (3.20.3)\n"
     ]
    },
    {
     "name": "stderr",
     "output_type": "stream",
     "text": [
      "\n",
      "[notice] A new release of pip available: 22.3.1 -> 23.0.1\n",
      "[notice] To update, run: python.exe -m pip install --upgrade pip\n"
     ]
    }
   ],
   "source": [
    "!pip install mysql-connector-python"
   ]
  },
  {
   "cell_type": "code",
   "execution_count": 11,
   "id": "3e53c4d3",
   "metadata": {},
   "outputs": [],
   "source": [
    "import mysql.connector as connector"
   ]
  },
  {
   "cell_type": "code",
   "execution_count": 12,
   "id": "46513ed9",
   "metadata": {},
   "outputs": [],
   "source": [
    "connection = connector.connect(user = \"root\", password = \"1233444\", database = \"littlelemondb\")"
   ]
  },
  {
   "cell_type": "code",
   "execution_count": 13,
   "id": "38f473c5",
   "metadata": {},
   "outputs": [],
   "source": [
    "cursor=connection.cursor()"
   ]
  },
  {
   "cell_type": "code",
   "execution_count": 14,
   "id": "1199fbc0",
   "metadata": {},
   "outputs": [],
   "source": [
    "cursor.execute(\"\"\"SHOW tables\"\"\")"
   ]
  },
  {
   "cell_type": "code",
   "execution_count": 15,
   "id": "335ba4f0",
   "metadata": {},
   "outputs": [],
   "source": [
    "results = cursor.fetchall()"
   ]
  },
  {
   "cell_type": "code",
   "execution_count": 16,
   "id": "26633846",
   "metadata": {},
   "outputs": [
    {
     "name": "stdout",
     "output_type": "stream",
     "text": [
      "[('bookings',), ('contactdetails',), ('customers',), ('menucontent',), ('menuitems',), ('menus',), ('orderdeliverystatus',), ('orders',), ('roles',), ('staff',)]\n"
     ]
    }
   ],
   "source": [
    "print(results)"
   ]
  },
  {
   "cell_type": "code",
   "execution_count": 17,
   "id": "5730d891",
   "metadata": {},
   "outputs": [],
   "source": [
    "customer_join_query = '''\n",
    "        SELECT\n",
    "            c.Name AS FullName,\n",
    "            cd.Email AS Email,\n",
    "            cd.PhoneNumber AS PhoneNumber,\n",
    "            cd.Address AS Address,\n",
    "            cd.Country AS Country,\n",
    "            cd.City AS City,\n",
    "            o.TotalCost AS Cost\n",
    "        FROM Customers c\n",
    "        JOIN ContactDetails cd\n",
    "            USING (CustomerID)\n",
    "        JOIN orders o\n",
    "            USING (CustomerID)\n",
    "        WHERE o.TotalCost > 30\n",
    "        ORDER BY o.TotalCost DESC;'''"
   ]
  },
  {
   "cell_type": "code",
   "execution_count": 18,
   "id": "1b39b636",
   "metadata": {},
   "outputs": [],
   "source": [
    "cursor.execute(customer_join_query)"
   ]
  },
  {
   "cell_type": "code",
   "execution_count": 19,
   "id": "da5c07ec",
   "metadata": {},
   "outputs": [],
   "source": [
    "customers = cursor.fetchall()"
   ]
  },
  {
   "cell_type": "code",
   "execution_count": 20,
   "id": "6c684761",
   "metadata": {},
   "outputs": [],
   "source": [
    "for result in customers:\n",
    "    print(result)"
   ]
  },
  {
   "cell_type": "code",
   "execution_count": null,
   "id": "df88ad2f",
   "metadata": {},
   "outputs": [],
   "source": []
  }
 ],
 "metadata": {
  "kernelspec": {
   "display_name": "Python 3 (ipykernel)",
   "language": "python",
   "name": "python3"
  },
  "language_info": {
   "codemirror_mode": {
    "name": "ipython",
    "version": 3
   },
   "file_extension": ".py",
   "mimetype": "text/x-python",
   "name": "python",
   "nbconvert_exporter": "python",
   "pygments_lexer": "ipython3",
   "version": "3.11.2"
  }
 },
 "nbformat": 4,
 "nbformat_minor": 5
}
